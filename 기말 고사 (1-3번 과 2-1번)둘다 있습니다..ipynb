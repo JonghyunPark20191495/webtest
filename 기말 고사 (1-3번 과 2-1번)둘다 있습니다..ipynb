{
 "cells": [
  {
   "cell_type": "code",
   "execution_count": 1,
   "id": "d5c1a83e",
   "metadata": {},
   "outputs": [],
   "source": [
    "# -*- coding: utf-8 -*-\n",
    "\n",
    "%matplotlib inline\n",
    "\n",
    "import pandas as pd\n",
    "import numpy as np\n",
    "import matplotlib.pyplot as plt\n",
    "\n",
    "import warnings\n",
    "warnings.filterwarnings(\"ignore\")"
   ]
  },
  {
   "cell_type": "code",
   "execution_count": 2,
   "id": "e8fa05a2",
   "metadata": {},
   "outputs": [],
   "source": [
    "# Data Source : http://www.statiz.co.kr/\n",
    "\n",
    "picher_file_path = '../data/picher_stats_2017.csv'\n",
    "batter_file_path = '../data/batter_stats_2017.csv'\n",
    "picher = pd.read_csv(picher_file_path)\n",
    "batter = pd.read_csv(batter_file_path)"
   ]
  },
  {
   "cell_type": "code",
   "execution_count": 15,
   "id": "32dd4479",
   "metadata": {},
   "outputs": [
    {
     "name": "stdout",
     "output_type": "stream",
     "text": [
      "Collecting scikit-learn\n",
      "  Downloading scikit_learn-1.2.2-cp38-cp38-win_amd64.whl (8.3 MB)\n",
      "     ---------------------------------------- 0.0/8.3 MB ? eta -:--:--\n",
      "     ---- ----------------------------------- 0.9/8.3 MB 18.3 MB/s eta 0:00:01\n",
      "     ---------- ----------------------------- 2.2/8.3 MB 20.5 MB/s eta 0:00:01\n",
      "     ------------------- -------------------- 4.0/8.3 MB 23.0 MB/s eta 0:00:01\n",
      "     -------------------------- ------------- 5.4/8.3 MB 24.8 MB/s eta 0:00:01\n",
      "     ----------------------------------- ---- 7.4/8.3 MB 26.5 MB/s eta 0:00:01\n",
      "     ---------------------------------------  8.3/8.3 MB 26.4 MB/s eta 0:00:01\n",
      "     ---------------------------------------- 8.3/8.3 MB 23.1 MB/s eta 0:00:00\n",
      "Requirement already satisfied: numpy>=1.17.3 in c:\\workspace\\envs\\pybook\\lib\\site-packages (from scikit-learn) (1.24.2)\n",
      "Requirement already satisfied: scipy>=1.3.2 in c:\\workspace\\envs\\pybook\\lib\\site-packages (from scikit-learn) (1.10.1)\n",
      "Collecting threadpoolctl>=2.0.0\n",
      "  Downloading threadpoolctl-3.1.0-py3-none-any.whl (14 kB)\n",
      "Requirement already satisfied: joblib>=1.1.1 in c:\\workspace\\envs\\pybook\\lib\\site-packages (from scikit-learn) (1.2.0)\n",
      "Installing collected packages: threadpoolctl, scikit-learn\n",
      "Successfully installed scikit-learn-1.2.2 threadpoolctl-3.1.0\n",
      "Note: you may need to restart the kernel to use updated packages.\n"
     ]
    }
   ],
   "source": [
    "pip install scikit-learn"
   ]
  },
  {
   "cell_type": "code",
   "execution_count": 23,
   "id": "75ddc5c3",
   "metadata": {},
   "outputs": [
    {
     "name": "stdout",
     "output_type": "stream",
     "text": [
      "평균 제곱 오차(MSE): 5.034698523518043\n"
     ]
    }
   ],
   "source": [
    "import pandas as pd\n",
    "from sklearn.model_selection import train_test_split\n",
    "from sklearn.linear_model import LinearRegression\n",
    "from sklearn.metrics import mean_squared_error\n",
    "\n",
    "# 데이터 파일 경로\n",
    "batter_file_path = '../data/batter_stats_2017.csv'\n",
    "\n",
    "# 데이터 불러오기\n",
    "batter = pd.read_csv(batter_file_path)\n",
    "\n",
    "# '홈런' 열을 제외한 특성 선택\n",
    "features = ['타석', '타수', '안타', '득점', '타점', '볼넷', '삼진', '도루']\n",
    "\n",
    "# 입력 데이터(X)와 타겟 변수(y) 나누기\n",
    "X = batter[features]\n",
    "y = batter['홈런']\n",
    "\n",
    "# 훈련 데이터와 테스트 데이터 분할\n",
    "X_train, X_test, y_train, y_test = train_test_split(X, y, test_size=0.2, random_state=42)\n",
    "\n",
    "# 선형 회귀 모델 생성 및 훈련\n",
    "model = LinearRegression()\n",
    "model.fit(X_train, y_train)\n",
    "\n",
    "# 테스트 데이터로 예측 수행\n",
    "y_pred = model.predict(X_test)\n",
    "\n",
    "# 모델 평가 (평균 제곱 오차 계산)\n",
    "mse = mean_squared_error(y_test, y_pred)\n",
    "print(\"평균 제곱 오차(MSE):\", mse)"
   ]
  },
  {
   "cell_type": "code",
   "execution_count": 25,
   "id": "8ff017a4",
   "metadata": {},
   "outputs": [
    {
     "name": "stdout",
     "output_type": "stream",
     "text": [
      "      선수명    예측 홈런 수  실제 홈런 수\n",
      "152   김민수   0.838671        0\n",
      "75    노수광   7.631652        6\n",
      "158   정주현  -0.049814        0\n",
      "66    김태완   1.054476        4\n",
      "60    오선진   1.968843        2\n",
      "15    나지완  25.304841       27\n",
      "9    스크럭스  34.375104       35\n",
      "16    이대호  25.022286       34\n",
      "128   서상우   0.841541        1\n",
      "125   이인행  -0.200360        0\n"
     ]
    }
   ],
   "source": [
    "import pandas as pd\n",
    "from sklearn.model_selection import train_test_split\n",
    "from sklearn.linear_model import LinearRegression\n",
    "from sklearn.metrics import mean_squared_error\n",
    "\n",
    "# 데이터 파일 경로\n",
    "batter_file_path = '../data/batter_stats_2017.csv'\n",
    "\n",
    "# 데이터 불러오기\n",
    "batter = pd.read_csv(batter_file_path)\n",
    "\n",
    "# '홈런' 열을 제외한 특성 선택\n",
    "features = ['타석', '타수', '안타', '득점', '타점', '볼넷', '삼진', '도루']\n",
    "\n",
    "# 입력 데이터(X)와 타겟 변수(y) 나누기\n",
    "X = batter[features]\n",
    "y = batter['홈런']\n",
    "\n",
    "# 훈련 데이터와 테스트 데이터 분할\n",
    "X_train, X_test, y_train, y_test = train_test_split(X, y, test_size=0.2, random_state=42)\n",
    "\n",
    "# 선형 회귀 모델 생성 및 훈련\n",
    "model = LinearRegression()\n",
    "model.fit(X_train, y_train)\n",
    "\n",
    "# 테스트 데이터로 예측 수행\n",
    "y_pred = model.predict(X_test)\n",
    "\n",
    "# 모든 타자의 이름, 예측 홈런 수, 실제 홈런 수를 포함하는 DataFrame 생성\n",
    "predictions = pd.DataFrame({'선수명': batter.loc[X_test.index, '선수명'],\n",
    "                            '예측 홈런 수': y_pred,\n",
    "                            '실제 홈런 수': y_test})\n",
    "\n",
    "# 처음 10개의 행 출력\n",
    "print(predictions.head(10))"
   ]
  },
  {
   "cell_type": "code",
   "execution_count": 26,
   "id": "88b2f11e",
   "metadata": {},
   "outputs": [],
   "source": [
    "# -*- coding: utf-8 -*-\n",
    "\n",
    "%matplotlib inline\n",
    "\n",
    "import time\n",
    "import operator\n",
    "\n",
    "import pandas as pd\n",
    "import numpy as np\n",
    "import matplotlib.pyplot as plt\n",
    "import seaborn as sns\n",
    "\n",
    "import warnings\n",
    "warnings.filterwarnings(\"ignore\")"
   ]
  },
  {
   "cell_type": "code",
   "execution_count": 27,
   "id": "d54a751e",
   "metadata": {},
   "outputs": [],
   "source": [
    "# Data Source : https://grouplens.org/datasets/movielens\n",
    "\n",
    "rating_file_path = \"../data/ml-1m/ratings.dat\"\n",
    "movie_file_path = \"../data/ml-1m/movies.dat\"\n",
    "user_file_path = \"../data/ml-1m/users.dat\"\n",
    "\n",
    "rating_data = pd.io.parsers.read_csv(rating_file_path, \n",
    "                                     names=['user_id', 'movie_id', 'rating', 'time'], delimiter='::')\n",
    "movie_data = pd.io.parsers.read_csv(movie_file_path, \n",
    "                                    names=['movie_id', 'title', 'genre'], delimiter='::')\n",
    "user_data = pd.io.parsers.read_csv(user_file_path, \n",
    "                                   names=['user_id', 'gender', 'age', 'occupation', 'zipcode'], delimiter='::')"
   ]
  },
  {
   "cell_type": "code",
   "execution_count": 30,
   "id": "78701527",
   "metadata": {},
   "outputs": [
    {
     "name": "stdout",
     "output_type": "stream",
     "text": [
      "movie_id      1         2         3         4         5         6     \\\n",
      "user_id                                                                \n",
      "1         4.292556  0.164772 -0.184504 -0.018528  0.021516 -0.181793   \n",
      "2         0.754817  0.128981  0.341128  0.009540  0.001830  1.314580   \n",
      "3         1.844858  0.473855  0.098573 -0.039309 -0.019895 -0.154038   \n",
      "4         0.395484 -0.045487  0.033716  0.083890  0.051561  0.260676   \n",
      "5         1.557609 -0.006700 -0.044860  0.249014 -0.043320  1.518140   \n",
      "...            ...       ...       ...       ...       ...       ...   \n",
      "6036      2.405584  0.299213  0.492065  0.464302 -0.086597  2.053894   \n",
      "6037      2.038197  0.172792 -0.069244 -0.198239  0.284212  1.202178   \n",
      "6038      0.621009 -0.168949  0.123985  0.013903 -0.081184 -0.120193   \n",
      "6039      1.530963 -0.057925 -0.151071 -0.074231 -0.092080 -0.168348   \n",
      "6040      1.997677 -0.184039 -0.147937  0.109663 -0.038589  0.076209   \n",
      "\n",
      "movie_id      7         8         9         10    ...      3943      3944  \\\n",
      "user_id                                           ...                       \n",
      "1        -0.102936  0.157111 -0.058523 -0.164231  ...  0.032475  0.007048   \n",
      "2         0.077427  0.062218  0.163983  1.514572  ... -0.051376 -0.015780   \n",
      "3        -0.141531  0.111551  0.035977  0.738427  ...  0.049994  0.003596   \n",
      "4        -0.081541  0.023891  0.051932 -0.077170  ...  0.010847  0.007518   \n",
      "5        -0.164306 -0.043626 -0.078771  0.424064  ...  0.097708  0.013847   \n",
      "...            ...       ...       ...       ...  ...       ...       ...   \n",
      "6036      1.005013  0.230929 -0.023040  0.627581  ...  0.251335  0.028883   \n",
      "6037      0.107265  0.000894 -0.026340 -0.049683  ... -0.179987  0.012428   \n",
      "6038      0.086629 -0.028330  0.007280 -0.003141  ... -0.047034  0.003541   \n",
      "6039      0.114257 -0.050330 -0.002579  0.173339  ...  0.003400  0.015575   \n",
      "6040     -0.200823 -0.032278  0.138939 -0.118484  ...  0.262074 -0.023452   \n",
      "\n",
      "movie_id      3945      3946      3947      3948      3949      3950  \\\n",
      "user_id                                                                \n",
      "1         0.033170 -0.007577 -0.075329  0.394578  0.124714  0.051545   \n",
      "2        -0.010918  0.055628 -0.016037  0.166941 -0.421144 -0.106675   \n",
      "3         0.022734  0.043377  0.034825  0.120205  0.086553  0.034783   \n",
      "4         0.004269  0.009527 -0.079630  0.077845  0.051369 -0.017046   \n",
      "5        -0.024256 -0.043126 -0.065997 -0.025571  0.517685  0.008508   \n",
      "...            ...       ...       ...       ...       ...       ...   \n",
      "6036      0.013112  0.001349  0.359877  0.090500  0.852640  0.404866   \n",
      "6037     -0.029103 -0.063556  0.073558 -0.195163 -0.165334  0.009053   \n",
      "6038      0.009197 -0.017446 -0.002223 -0.007116 -0.079708 -0.000552   \n",
      "6039      0.016253 -0.031848  0.060226  0.025847 -0.167720  0.000172   \n",
      "6040     -0.015749  0.065107  0.079778  0.136405  0.601844  0.026084   \n",
      "\n",
      "movie_id      3951      3952  \n",
      "user_id                       \n",
      "1         0.057349  0.076743  \n",
      "2        -0.049650 -0.126564  \n",
      "3         0.029337 -0.121871  \n",
      "4         0.018980 -0.047580  \n",
      "5         0.106630  0.221219  \n",
      "...            ...       ...  \n",
      "6036      0.325320  0.677121  \n",
      "6037     -0.136570  0.032590  \n",
      "6038     -0.022991 -0.115557  \n",
      "6039     -0.025986 -0.166850  \n",
      "6040      0.155205  0.273349  \n",
      "\n",
      "[6040 rows x 3706 columns]\n"
     ]
    }
   ],
   "source": [
    "from scipy.sparse.linalg import svds\n",
    "from scipy.sparse import csr_matrix\n",
    "\n",
    "# 사용자-영화 평점 행렬 생성\n",
    "ratings_matrix = rating_data.pivot_table(index='user_id', columns='movie_id', values='rating').fillna(0)\n",
    "\n",
    "# 희소 행렬로 변환\n",
    "sparse_ratings_matrix = csr_matrix(ratings_matrix.values)\n",
    "\n",
    "# SVD 모델 생성\n",
    "U, sigma, Vt = svds(sparse_ratings_matrix, k=50)  # k는 잠재 요인의 개수를 의미\n",
    "\n",
    "# 대각 행렬로 변환\n",
    "sigma = np.diag(sigma)\n",
    "\n",
    "# 예측 평점 행렬 생성\n",
    "all_predicted_ratings = np.dot(np.dot(U, sigma), Vt)\n",
    "\n",
    "# 전체가 채워진 평점 행렬 데이터프레임 생성\n",
    "predicted_ratings_df = pd.DataFrame(all_predicted_ratings, columns=ratings_matrix.columns, index=ratings_matrix.index)\n",
    "\n",
    "# 전체가 채워진 평점 행렬 출력\n",
    "print(predicted_ratings_df)"
   ]
  },
  {
   "cell_type": "code",
   "execution_count": 28,
   "id": "b713d662",
   "metadata": {},
   "outputs": [
    {
     "name": "stdout",
     "output_type": "stream",
     "text": [
      "                             title                           genre\n",
      "3875     Digimon: The Movie (2000)  Adventure|Animation|Children's\n",
      "3730  Pok?on the Movie 2000 (2000)            Animation|Children's\n"
     ]
    }
   ],
   "source": [
    "# 사용자가 평가하지 않은 영화 중 애니메이션 장르인 영화 필터링\n",
    "unrated_movies = movie_data[~movie_data['movie_id'].isin(rating_data[rating_data['user_id'] == 4]['movie_id'])]\n",
    "anime_movies = unrated_movies[unrated_movies['genre'].str.contains('Animation')]\n",
    "\n",
    "# 상위 2개의 영화 추천\n",
    "top_anime_movies = anime_movies.nlargest(2, 'movie_id')\n",
    "recommended_movies = top_anime_movies[['title', 'genre']]\n",
    "\n",
    "# 추천된 영화 출력\n",
    "print(recommended_movies)"
   ]
  }
 ],
 "metadata": {
  "kernelspec": {
   "display_name": "Python 3 (ipykernel)",
   "language": "python",
   "name": "python3"
  },
  "language_info": {
   "codemirror_mode": {
    "name": "ipython",
    "version": 3
   },
   "file_extension": ".py",
   "mimetype": "text/x-python",
   "name": "python",
   "nbconvert_exporter": "python",
   "pygments_lexer": "ipython3",
   "version": "3.8.16"
  }
 },
 "nbformat": 4,
 "nbformat_minor": 5
}
